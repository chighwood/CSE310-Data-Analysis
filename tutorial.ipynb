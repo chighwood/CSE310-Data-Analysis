{
 "cells": [
  {
   "cell_type": "markdown",
   "metadata": {},
   "source": []
  },
  {
   "cell_type": "code",
   "execution_count": 13,
   "metadata": {},
   "outputs": [
    {
     "name": "stdout",
     "output_type": "stream",
     "text": [
      "    Exchange Symbol                    Shortname                     Longname  \\\n",
      "0        NMS   AAPL                   Apple Inc.                   Apple Inc.   \n",
      "1        NMS   NVDA           NVIDIA Corporation           NVIDIA Corporation   \n",
      "2        NMS   MSFT        Microsoft Corporation        Microsoft Corporation   \n",
      "3        NMS   AMZN             Amazon.com, Inc.             Amazon.com, Inc.   \n",
      "4        NMS  GOOGL                Alphabet Inc.                Alphabet Inc.   \n",
      "..       ...    ...                          ...                          ...   \n",
      "497      NMS    CZR  Caesars Entertainment, Inc.  Caesars Entertainment, Inc.   \n",
      "498      NYQ    BWA              BorgWarner Inc.              BorgWarner Inc.   \n",
      "499      NMS   QRVO                  Qorvo, Inc.                  Qorvo, Inc.   \n",
      "500      NYQ    FMC              FMC Corporation              FMC Corporation   \n",
      "501      NYQ   AMTM       Amentum Holdings, Inc.       Amentum Holdings, Inc.   \n",
      "\n",
      "                     Sector                        Industry  Currentprice  \\\n",
      "0                Technology            Consumer Electronics        254.49   \n",
      "1                Technology                  Semiconductors        134.70   \n",
      "2                Technology       Software - Infrastructure        436.60   \n",
      "3         Consumer Cyclical                 Internet Retail        224.92   \n",
      "4    Communication Services  Internet Content & Information        191.41   \n",
      "..                      ...                             ...           ...   \n",
      "497       Consumer Cyclical               Resorts & Casinos         32.82   \n",
      "498       Consumer Cyclical                      Auto Parts         31.88   \n",
      "499              Technology                  Semiconductors         70.85   \n",
      "500         Basic Materials             Agricultural Inputs         50.15   \n",
      "501             Industrials     Specialty Business Services         19.17   \n",
      "\n",
      "         Marketcap        Ebitda  Revenuegrowth           City State  \\\n",
      "0    3846819807232  1.346610e+11          0.061      Cupertino    CA   \n",
      "1    3298803056640  6.118400e+10          1.224    Santa Clara    CA   \n",
      "2    3246068596736  1.365520e+11          0.160        Redmond    WA   \n",
      "3    2365033807872  1.115830e+11          0.110        Seattle    WA   \n",
      "4    2351625142272  1.234700e+11          0.151  Mountain View    CA   \n",
      "..             ...           ...            ...            ...   ...   \n",
      "497     6973593600  3.668000e+09         -0.040           Reno    NV   \n",
      "498     6972155904  1.882000e+09         -0.048   Auburn Hills    MI   \n",
      "499     6697217024  6.731300e+08         -0.052     Greensboro    NC   \n",
      "500     6260525568  7.033000e+08          0.085   Philadelphia    PA   \n",
      "501     4664099328  4.330000e+08         -0.031      Chantilly    VA   \n",
      "\n",
      "           Country  Fulltimeemployees  \\\n",
      "0    United States           164000.0   \n",
      "1    United States            29600.0   \n",
      "2    United States           228000.0   \n",
      "3    United States          1551000.0   \n",
      "4    United States           181269.0   \n",
      "..             ...                ...   \n",
      "497  United States            51000.0   \n",
      "498  United States            39900.0   \n",
      "499  United States             8700.0   \n",
      "500  United States             5800.0   \n",
      "501  United States                NaN   \n",
      "\n",
      "                                   Longbusinesssummary    Weight  \n",
      "0    Apple Inc. designs, manufactures, and markets ...  0.069209  \n",
      "1    NVIDIA Corporation provides graphics and compu...  0.059350  \n",
      "2    Microsoft Corporation develops and supports so...  0.058401  \n",
      "3    Amazon.com, Inc. engages in the retail sale of...  0.042550  \n",
      "4    Alphabet Inc. offers various products and plat...  0.042309  \n",
      "..                                                 ...       ...  \n",
      "497  Caesars Entertainment, Inc. operates as a gami...  0.000125  \n",
      "498  BorgWarner Inc., together with its subsidiarie...  0.000125  \n",
      "499  Qorvo, Inc. engages in development and commerc...  0.000120  \n",
      "500  FMC Corporation, an agricultural sciences comp...  0.000113  \n",
      "501  Amentum Holdings, Inc. provides engineering an...  0.000084  \n",
      "\n",
      "[502 rows x 16 columns]\n"
     ]
    },
    {
     "name": "stderr",
     "output_type": "stream",
     "text": [
      "<>:2: SyntaxWarning: invalid escape sequence '\\s'\n",
      "<>:2: SyntaxWarning: invalid escape sequence '\\s'\n",
      "C:\\Users\\colli\\AppData\\Local\\Temp\\ipykernel_24488\\4227947410.py:2: SyntaxWarning: invalid escape sequence '\\s'\n",
      "  file = pd.read_csv(\"dataset\\sp500_companies.csv\")\n"
     ]
    }
   ],
   "source": [
    "import pandas as pd\n",
    "file = pd.read_csv(\"dataset\\sp500_companies.csv\")\n",
    "\n",
    "print(file)"
   ]
  },
  {
   "cell_type": "code",
   "execution_count": 31,
   "metadata": {},
   "outputs": [
    {
     "name": "stdout",
     "output_type": "stream",
     "text": [
      "<class 'pandas.core.frame.DataFrame'>\n",
      "RangeIndex: 502 entries, 0 to 501\n",
      "Data columns (total 16 columns):\n",
      " #   Column               Non-Null Count  Dtype  \n",
      "---  ------               --------------  -----  \n",
      " 0   Exchange             502 non-null    object \n",
      " 1   Symbol               502 non-null    object \n",
      " 2   Shortname            502 non-null    object \n",
      " 3   Longname             502 non-null    object \n",
      " 4   Sector               502 non-null    object \n",
      " 5   Industry             502 non-null    object \n",
      " 6   Currentprice         502 non-null    float64\n",
      " 7   Marketcap            502 non-null    int64  \n",
      " 8   Ebitda               473 non-null    float64\n",
      " 9   Revenuegrowth        499 non-null    float64\n",
      " 10  City                 502 non-null    object \n",
      " 11  State                482 non-null    object \n",
      " 12  Country              502 non-null    object \n",
      " 13  Fulltimeemployees    493 non-null    float64\n",
      " 14  Longbusinesssummary  502 non-null    object \n",
      " 15  Weight               502 non-null    float64\n",
      "dtypes: float64(5), int64(1), object(10)\n",
      "memory usage: 62.9+ KB\n"
     ]
    }
   ],
   "source": [
    "#Find all of the companies that start with A\n",
    "\n",
    "file.info()\n"
   ]
  }
 ],
 "metadata": {
  "kernelspec": {
   "display_name": "myenv",
   "language": "python",
   "name": "python3"
  },
  "language_info": {
   "codemirror_mode": {
    "name": "ipython",
    "version": 3
   },
   "file_extension": ".py",
   "mimetype": "text/x-python",
   "name": "python",
   "nbconvert_exporter": "python",
   "pygments_lexer": "ipython3",
   "version": "3.13.1"
  }
 },
 "nbformat": 4,
 "nbformat_minor": 2
}
